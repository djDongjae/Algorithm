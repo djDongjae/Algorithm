{
  "nbformat": 4,
  "nbformat_minor": 0,
  "metadata": {
    "colab": {
      "provenance": [],
      "collapsed_sections": [],
      "authorship_tag": "ABX9TyPKE3PEDOJAXC/75x2prdtS",
      "include_colab_link": true
    },
    "kernelspec": {
      "name": "python3",
      "display_name": "Python 3"
    },
    "language_info": {
      "name": "python"
    }
  },
  "cells": [
    {
      "cell_type": "markdown",
      "metadata": {
        "id": "view-in-github",
        "colab_type": "text"
      },
      "source": [
        "<a href=\"https://colab.research.google.com/github/djDongjae/This-is-Codingtest/blob/main/5%EC%9E%A5%EC%8B%A4%EC%A0%84%EB%AC%B8%EC%A0%9C%5B%EB%AF%B8%EB%A1%9C%ED%83%88%EC%B6%9C%5D.ipynb\" target=\"_parent\"><img src=\"https://colab.research.google.com/assets/colab-badge.svg\" alt=\"Open In Colab\"/></a>"
      ]
    },
    {
      "cell_type": "code",
      "execution_count": null,
      "metadata": {
        "colab": {
          "base_uri": "https://localhost:8080/"
        },
        "id": "UhjBVyIbNa-X",
        "outputId": "d97220ca-7ac4-43ce-a4d1-7bdf354b5de1"
      },
      "outputs": [
        {
          "output_type": "stream",
          "name": "stdout",
          "text": [
            "5 6\n",
            "101010\n",
            "111111\n",
            "000001\n",
            "111111\n",
            "111111\n",
            "10\n"
          ]
        }
      ],
      "source": [
        "from collections import deque\n",
        "\n",
        "n, m = map(int, input().split())\n",
        "\n",
        "graph = []\n",
        "for _ in range(n):\n",
        "    graph.append(list(map(int, input())))\n",
        "\n",
        "def bfs(graph, x, y):\n",
        "    queue = deque()\n",
        "    queue.append((x, y))\n",
        "    dx = [-1, 1, 0, 0]\n",
        "    dy = [0, 0, -1, 1]\n",
        "    while queue:\n",
        "        x, y = queue.popleft()\n",
        "        for i in range(4):\n",
        "            nx = x + dx[i]\n",
        "            ny = y + dy[i]\n",
        "            if nx <= -1 or nx >= n or ny <= -1 or ny >= m:\n",
        "                continue;\n",
        "            if graph[nx][ny] == 0:\n",
        "                continue;\n",
        "            if graph[nx][ny] == 1:\n",
        "                graph[nx][ny] = graph[x][y] + 1\n",
        "                queue.append((nx, ny))\n",
        "    return graph[n-1][m-1]\n",
        "\n",
        "print(bfs(graph, 0, 0))      "
      ]
    }
  ]
}