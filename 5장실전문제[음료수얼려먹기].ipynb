{
  "nbformat": 4,
  "nbformat_minor": 0,
  "metadata": {
    "colab": {
      "provenance": [],
      "collapsed_sections": [],
      "authorship_tag": "ABX9TyOYOTXuFLGWO2G3yErKb7pE",
      "include_colab_link": true
    },
    "kernelspec": {
      "name": "python3",
      "display_name": "Python 3"
    },
    "language_info": {
      "name": "python"
    }
  },
  "cells": [
    {
      "cell_type": "markdown",
      "metadata": {
        "id": "view-in-github",
        "colab_type": "text"
      },
      "source": [
        "<a href=\"https://colab.research.google.com/github/djDongjae/This-is-Codingtest/blob/main/5%EC%9E%A5%EC%8B%A4%EC%A0%84%EB%AC%B8%EC%A0%9C%5B%EC%9D%8C%EB%A3%8C%EC%88%98%EC%96%BC%EB%A0%A4%EB%A8%B9%EA%B8%B0%5D.ipynb\" target=\"_parent\"><img src=\"https://colab.research.google.com/assets/colab-badge.svg\" alt=\"Open In Colab\"/></a>"
      ]
    },
    {
      "cell_type": "code",
      "execution_count": null,
      "metadata": {
        "colab": {
          "base_uri": "https://localhost:8080/"
        },
        "id": "hzmQMuX69y5k",
        "outputId": "abe84ab2-577b-4d4f-9f21-cb9a228afbef"
      },
      "outputs": [
        {
          "output_type": "stream",
          "name": "stdout",
          "text": [
            "4 5\n",
            "00110\n",
            "00011\n",
            "11111\n",
            "00000\n",
            "3\n"
          ]
        }
      ],
      "source": [
        "n, m = map(int, input().split())\n",
        "\n",
        "graph = []\n",
        "for _ in range(n):\n",
        "    graph.append(list(map(int, input())))\n",
        "\n",
        "def dfs(x, y):\n",
        "    if x <= -1 or x >= n or y <= -1 or y >=m:\n",
        "        return False\n",
        "    if graph[x][y] == 0:\n",
        "        graph[x][y] = 1\n",
        "        dfs(x-1, y)\n",
        "        dfs(x+1, y)\n",
        "        dfs(x, y-1)\n",
        "        dfs(x, y+1)\n",
        "        return True\n",
        "    return False\n",
        "\n",
        "result = 0\n",
        "for i in range(n):\n",
        "    for j in range(m):\n",
        "        if dfs(i, j) == True:\n",
        "            result += 1\n",
        "\n",
        "print(result)"
      ]
    }
  ]
}