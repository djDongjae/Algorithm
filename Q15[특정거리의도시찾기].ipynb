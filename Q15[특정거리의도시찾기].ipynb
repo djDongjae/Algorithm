{
  "nbformat": 4,
  "nbformat_minor": 0,
  "metadata": {
    "colab": {
      "provenance": [],
      "authorship_tag": "ABX9TyPrmDDw4/F7YDr60IMactWb",
      "include_colab_link": true
    },
    "kernelspec": {
      "name": "python3",
      "display_name": "Python 3"
    },
    "language_info": {
      "name": "python"
    }
  },
  "cells": [
    {
      "cell_type": "markdown",
      "metadata": {
        "id": "view-in-github",
        "colab_type": "text"
      },
      "source": [
        "<a href=\"https://colab.research.google.com/github/djDongjae/This-is-Codingtest/blob/main/Q15%5B%ED%8A%B9%EC%A0%95%EA%B1%B0%EB%A6%AC%EC%9D%98%EB%8F%84%EC%8B%9C%EC%B0%BE%EA%B8%B0%5D.ipynb\" target=\"_parent\"><img src=\"https://colab.research.google.com/assets/colab-badge.svg\" alt=\"Open In Colab\"/></a>"
      ]
    },
    {
      "cell_type": "code",
      "execution_count": null,
      "metadata": {
        "colab": {
          "base_uri": "https://localhost:8080/"
        },
        "id": "7k9PlYAUy6uM",
        "outputId": "cef8994f-284a-43f7-ffde-3d8c87f6dc4a"
      },
      "outputs": [
        {
          "output_type": "stream",
          "name": "stdout",
          "text": [
            "4 4 2 1\n",
            "1 2\n",
            "1 3\n",
            "2 3\n",
            "2 4\n",
            "4\n"
          ]
        }
      ],
      "source": [
        "from collections import deque\n",
        "\n",
        "n, m, k, x = map(int, input().split())\n",
        "\n",
        "graph = [[]for _ in range(n+1)]\n",
        "for _ in range(m):\n",
        "    a, b = map(int, input().split())\n",
        "    graph[a].append(b)\n",
        "\n",
        "distance = [-1]*(n+1)\n",
        "distance[x] = 0\n",
        "\n",
        "queue = deque([x])\n",
        "while queue:\n",
        "    v = queue.popleft()\n",
        "    for i in graph[v]:\n",
        "        if distance[i] == -1:\n",
        "            distance[i] = distance[v] + 1\n",
        "            queue.append(i)\n",
        "                \n",
        "check = False\n",
        "for i in range(n+1):\n",
        "    if distance[i] == k:\n",
        "        print(i)\n",
        "        check = True\n",
        "\n",
        "if check == False:\n",
        "    print(-1)"
      ]
    }
  ]
}