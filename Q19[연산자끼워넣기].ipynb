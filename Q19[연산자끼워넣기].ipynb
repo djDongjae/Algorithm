{
  "nbformat": 4,
  "nbformat_minor": 0,
  "metadata": {
    "colab": {
      "provenance": [],
      "collapsed_sections": [],
      "authorship_tag": "ABX9TyNuN+BqdNYhzxWWJPI5v77l",
      "include_colab_link": true
    },
    "kernelspec": {
      "name": "python3",
      "display_name": "Python 3"
    },
    "language_info": {
      "name": "python"
    }
  },
  "cells": [
    {
      "cell_type": "markdown",
      "metadata": {
        "id": "view-in-github",
        "colab_type": "text"
      },
      "source": [
        "<a href=\"https://colab.research.google.com/github/djDongjae/This-is-Codingtest/blob/main/Q19%5B%EC%97%B0%EC%82%B0%EC%9E%90%EB%81%BC%EC%9B%8C%EB%84%A3%EA%B8%B0%5D.ipynb\" target=\"_parent\"><img src=\"https://colab.research.google.com/assets/colab-badge.svg\" alt=\"Open In Colab\"/></a>"
      ]
    },
    {
      "cell_type": "code",
      "source": [
        "n = int(input())\n",
        "data = list(map(int, input().split()))\n",
        "add, sub, mul, div = map(int, input().split())\n",
        "\n",
        "max_value = -1e9\n",
        "min_value = 1e9\n",
        "\n",
        "def dfs(i, now):\n",
        "    global max_value, min_value, add, sub, mul, div\n",
        "    if i == n:\n",
        "        min_value = min(min_value, now)\n",
        "        max_value = max(max_value, now)\n",
        "    else:\n",
        "        if add > 0:\n",
        "            add -= 1\n",
        "            dfs(i+1, now + data[i])\n",
        "            add += 1\n",
        "        if sub > 0:\n",
        "            sub -= 1\n",
        "            dfs(i+1, now - data[i])\n",
        "            sub += 1\n",
        "        if mul > 0:\n",
        "            mul -= 1\n",
        "            dfs(i+1, now * data[i])\n",
        "            mul += 1\n",
        "        if div > 0:\n",
        "            div -= 1\n",
        "            dfs(i+1, int(now/data[i]))\n",
        "            div += 1\n",
        "\n",
        "dfs(1, data[0])\n",
        "print(max_value)\n",
        "print(min_value)"
      ],
      "metadata": {
        "id": "6oOuBD67Lnva",
        "colab": {
          "base_uri": "https://localhost:8080/"
        },
        "outputId": "7d16d74a-3187-46f9-f5d8-bad31b31789b"
      },
      "execution_count": null,
      "outputs": [
        {
          "output_type": "stream",
          "name": "stdout",
          "text": [
            "6\n",
            "1 2 3 4 5 6\n",
            "2 1 1 1\n",
            "54\n",
            "-24\n"
          ]
        }
      ]
    }
  ]
}