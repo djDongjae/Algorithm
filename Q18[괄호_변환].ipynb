{
  "nbformat": 4,
  "nbformat_minor": 0,
  "metadata": {
    "colab": {
      "provenance": [],
      "collapsed_sections": [],
      "authorship_tag": "ABX9TyMfHYXuv6hU26JVJAj2yYT/",
      "include_colab_link": true
    },
    "kernelspec": {
      "name": "python3",
      "display_name": "Python 3"
    },
    "language_info": {
      "name": "python"
    }
  },
  "cells": [
    {
      "cell_type": "markdown",
      "metadata": {
        "id": "view-in-github",
        "colab_type": "text"
      },
      "source": [
        "<a href=\"https://colab.research.google.com/github/djDongjae/This-is-Codingtest/blob/main/Q18%5B%EA%B4%84%ED%98%B8_%EB%B3%80%ED%99%98%5D.ipynb\" target=\"_parent\"><img src=\"https://colab.research.google.com/assets/colab-badge.svg\" alt=\"Open In Colab\"/></a>"
      ]
    },
    {
      "cell_type": "code",
      "execution_count": null,
      "metadata": {
        "id": "y7x8QMLPkXsM"
      },
      "outputs": [],
      "source": [
        "def balanced_check(p):\n",
        "    count = 0\n",
        "    for i in range(len(p)):\n",
        "        if p[i] == '(':\n",
        "            count += 1\n",
        "        else:\n",
        "            count -= 1\n",
        "        if count == 0:\n",
        "            return i\n",
        "\n",
        "def proper_check(p):\n",
        "    count = 0\n",
        "    for i in p:\n",
        "        if i == '(':\n",
        "            count += 1\n",
        "        else:\n",
        "            if count == 0:\n",
        "                return False\n",
        "            count -= 1\n",
        "    return True\n",
        "\n",
        "def solution(p):\n",
        "    answer = ''\n",
        "    if answer == p:\n",
        "        return answer\n",
        "    index = balanced_check(p)\n",
        "    u = p[:index+1]\n",
        "    v = p[index+1:]\n",
        "    if proper_check(u):\n",
        "        answer = u + solution(v)\n",
        "    else:\n",
        "        answer = '('\n",
        "        answer += solution(v)\n",
        "        answer += ')'\n",
        "        u = u[1:-1]\n",
        "        for i in range(len(u)):\n",
        "            if u[i] == '(':\n",
        "                u[i] = ')'\n",
        "            else:\n",
        "                u[i] = '('\n",
        "        answer += ''.join(u)\n",
        "    return answer"
      ]
    }
  ]
}